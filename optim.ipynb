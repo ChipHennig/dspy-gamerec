{
 "cells": [
  {
   "cell_type": "code",
   "execution_count": 1,
   "metadata": {},
   "outputs": [
    {
     "name": "stderr",
     "output_type": "stream",
     "text": [
      "c:\\Users\\Chip\\workspace\\proj\\gamerec\\.venv\\lib\\site-packages\\tqdm\\auto.py:21: TqdmWarning: IProgress not found. Please update jupyter and ipywidgets. See https://ipywidgets.readthedocs.io/en/stable/user_install.html\n",
      "  from .autonotebook import tqdm as notebook_tqdm\n"
     ]
    }
   ],
   "source": [
    "import pandas as pd\n",
    "import dspy\n",
    "\n",
    "llama3 = dspy.OllamaLocal(model=\"llama3\")\n",
    "dspy.settings.configure(lm=llama3)"
   ]
  },
  {
   "cell_type": "code",
   "execution_count": 2,
   "metadata": {},
   "outputs": [],
   "source": [
    "df = pd.read_json(\"games.json\")"
   ]
  },
  {
   "cell_type": "code",
   "execution_count": 3,
   "metadata": {},
   "outputs": [],
   "source": [
    "import random\n",
    "\n",
    "\n",
    "def generate_selection():\n",
    "    num_games = random.randint(5, 20)\n",
    "    selection_idx = random.sample(range(0, 100), num_games)\n",
    "    games = df.iloc[selection_idx]\n",
    "    titles = []\n",
    "    scores = {}\n",
    "    for i in range(num_games):\n",
    "        game = games.iloc[i]\n",
    "        titles.append(game[\"name\"])\n",
    "        for genre in game[\"genres\"]:\n",
    "            if genre in scores:\n",
    "                scores[genre] += random.randint(-1, 1)\n",
    "            else:\n",
    "                scores[genre] = random.randint(-1, 1)\n",
    "    return titles, scores\n",
    "\n",
    "\n",
    "dataset = []\n",
    "for i in range(50):\n",
    "    titles, scores = generate_selection()\n",
    "    dataset.append(\n",
    "        dspy.Example(titles=str(titles), scores=str(scores)).with_inputs(\n",
    "            \"titles\", \"scores\"\n",
    "        )\n",
    "    )\n",
    "\n",
    "testset = []\n",
    "for i in range(50):\n",
    "    titles, scores = generate_selection()\n",
    "    testset.append(\n",
    "        dspy.Example(titles=str(titles), scores=str(scores)).with_inputs(\n",
    "            \"titles\", \"scores\"\n",
    "        )\n",
    "    )\n",
    "\n",
    "valset = []\n",
    "for i in range(12):\n",
    "    titles, scores = generate_selection()\n",
    "    valset.append(\n",
    "        dspy.Example(titles=str(titles), scores=str(scores)).with_inputs(\n",
    "            \"titles\", \"scores\"\n",
    "        )\n",
    "    )"
   ]
  },
  {
   "cell_type": "code",
   "execution_count": 4,
   "metadata": {},
   "outputs": [],
   "source": [
    "class Game(dspy.Signature):\n",
    "    \"\"\"You are a game recommendation API that receives a list of games\n",
    "    a user has played and a set of genres with scored preferences.\n",
    "    You will respond in JSON.  The JSON schema should include\n",
    "    {\n",
    "      \"recommendations\": {\n",
    "        \"games\": \"list of 5 strings [Super Mario World, Call of Duty, ...]\",\n",
    "        \"rationale\": \"string (reasoning for selecting the recommendedations)\"\n",
    "      }\n",
    "    }\n",
    "    \"\"\"\n",
    "\n",
    "    titles = dspy.InputField(desc=\"games that have already been played\")\n",
    "    scores = dspy.InputField(desc=\"users scored genre preferences\")\n",
    "    output = dspy.OutputField(desc=\"output in JSON\")"
   ]
  },
  {
   "cell_type": "code",
   "execution_count": 5,
   "metadata": {},
   "outputs": [],
   "source": [
    "import json\n",
    "\n",
    "\n",
    "def test_validate_answer(example, pred, trace=None):\n",
    "    try:\n",
    "        data = json.loads(pred.output)[\"recommendations\"]\n",
    "    except:\n",
    "        return 0, False\n",
    "    if (\"games\" not in data.keys()) or (\"rationale\" not in data.keys()):\n",
    "        return 0, False\n",
    "    num_wrong = 0\n",
    "    for game in example.titles:\n",
    "        if game in data[\"games\"]:\n",
    "            num_wrong += 1\n",
    "    acc = (len(data[\"games\"]) - num_wrong) / len(data[\"games\"])\n",
    "    return acc, True\n",
    "\n",
    "\n",
    "def validate_answer(example, pred, trace=None):\n",
    "    try:\n",
    "        data = json.loads(pred.output)[\"recommendations\"]\n",
    "    except:\n",
    "        return 0\n",
    "    if (\"games\" not in data.keys()) or (\"rationale\" not in data.keys()):\n",
    "        return 0\n",
    "    num_wrong = 0\n",
    "    for game in example.titles:\n",
    "        if game in data[\"games\"]:\n",
    "            num_wrong += 1\n",
    "    acc = (len(data[\"games\"]) - num_wrong) / len(data[\"games\"])\n",
    "    return acc"
   ]
  },
  {
   "cell_type": "code",
   "execution_count": 7,
   "metadata": {},
   "outputs": [
    {
     "name": "stdout",
     "output_type": "stream",
     "text": [
      "0\n",
      "0.76\n"
     ]
    }
   ],
   "source": [
    "avg = 0\n",
    "repeats = 0\n",
    "\n",
    "for d in testset:\n",
    "    pred = dspy.Predict(Game)(titles=d.titles, scores=d.scores)\n",
    "    acc, flag = test_validate_answer(d, pred)\n",
    "    if acc < 1 and flag:\n",
    "        repeats += 1\n",
    "    avg += acc\n",
    "print(repeats)\n",
    "print(avg / len(testset))"
   ]
  },
  {
   "cell_type": "code",
   "execution_count": null,
   "metadata": {},
   "outputs": [
    {
     "name": "stdout",
     "output_type": "stream",
     "text": [
      "Going to sample between 1 and 4 traces per predictor.\n",
      "Will attempt to bootstrap 3 candidate sets.\n"
     ]
    },
    {
     "name": "stderr",
     "output_type": "stream",
     "text": [
      "Average Metric: 10.0 / 12  (83.3): 100%|██████████| 12/12 [00:14<00:00,  1.20s/it]\n"
     ]
    },
    {
     "name": "stdout",
     "output_type": "stream",
     "text": [
      "Score: 83.33 for set: [0]\n",
      "New best sscore: 83.33 for seed -3\n",
      "Scores so far: [83.33]\n",
      "Best score: 83.33\n"
     ]
    },
    {
     "name": "stderr",
     "output_type": "stream",
     "text": [
      "Average Metric: 7.0 / 12  (58.3): 100%|██████████| 12/12 [00:14<00:00,  1.21s/it]\n"
     ]
    },
    {
     "name": "stdout",
     "output_type": "stream",
     "text": [
      "Score: 58.33 for set: [4]\n",
      "Scores so far: [83.33, 58.33]\n",
      "Best score: 83.33\n"
     ]
    },
    {
     "name": "stderr",
     "output_type": "stream",
     "text": [
      " 12%|█▏        | 6/50 [00:24<02:56,  4.00s/it]\n"
     ]
    },
    {
     "name": "stdout",
     "output_type": "stream",
     "text": [
      "Bootstrapped 4 full traces after 7 examples in round 0.\n"
     ]
    },
    {
     "name": "stderr",
     "output_type": "stream",
     "text": [
      "Average Metric: 0 / 12  (0.0): 100%|██████████| 12/12 [00:16<00:00,  1.34s/it]\n"
     ]
    },
    {
     "name": "stdout",
     "output_type": "stream",
     "text": [
      "Score: 0.0 for set: [4]\n",
      "Scores so far: [83.33, 58.33, 0.0]\n",
      "Best score: 83.33\n",
      "Average of max per entry across top 1 scores: 0.8333333333333334\n",
      "Average of max per entry across top 2 scores: 0.9166666666666666\n",
      "Average of max per entry across top 3 scores: 0.9166666666666666\n",
      "Average of max per entry across top 5 scores: 0.9166666666666666\n",
      "Average of max per entry across top 8 scores: 0.9166666666666666\n",
      "Average of max per entry across top 9999 scores: 0.9166666666666666\n"
     ]
    },
    {
     "name": "stderr",
     "output_type": "stream",
     "text": [
      " 10%|█         | 5/50 [00:21<03:10,  4.24s/it]\n"
     ]
    },
    {
     "name": "stdout",
     "output_type": "stream",
     "text": [
      "Bootstrapped 4 full traces after 6 examples in round 0.\n"
     ]
    },
    {
     "name": "stderr",
     "output_type": "stream",
     "text": [
      "Average Metric: 6.0 / 12  (50.0): 100%|██████████| 12/12 [00:14<00:00,  1.23s/it]\n"
     ]
    },
    {
     "name": "stdout",
     "output_type": "stream",
     "text": [
      "Score: 50.0 for set: [4]\n",
      "Scores so far: [83.33, 58.33, 0.0, 50.0]\n",
      "Best score: 83.33\n",
      "Average of max per entry across top 1 scores: 0.8333333333333334\n",
      "Average of max per entry across top 2 scores: 0.9166666666666666\n",
      "Average of max per entry across top 3 scores: 0.9166666666666666\n",
      "Average of max per entry across top 5 scores: 0.9166666666666666\n",
      "Average of max per entry across top 8 scores: 0.9166666666666666\n",
      "Average of max per entry across top 9999 scores: 0.9166666666666666\n"
     ]
    },
    {
     "name": "stderr",
     "output_type": "stream",
     "text": [
      "  4%|▍         | 2/50 [00:07<03:05,  3.86s/it]\n"
     ]
    },
    {
     "name": "stdout",
     "output_type": "stream",
     "text": [
      "Bootstrapped 2 full traces after 3 examples in round 0.\n"
     ]
    },
    {
     "name": "stderr",
     "output_type": "stream",
     "text": [
      "Average Metric: 6.0 / 12  (50.0): 100%|██████████| 12/12 [00:17<00:00,  1.48s/it]\n"
     ]
    },
    {
     "name": "stdout",
     "output_type": "stream",
     "text": [
      "Score: 50.0 for set: [4]\n",
      "Scores so far: [83.33, 58.33, 0.0, 50.0, 50.0]\n",
      "Best score: 83.33\n",
      "Average of max per entry across top 1 scores: 0.8333333333333334\n",
      "Average of max per entry across top 2 scores: 0.9166666666666666\n",
      "Average of max per entry across top 3 scores: 0.9166666666666666\n",
      "Average of max per entry across top 5 scores: 0.9166666666666666\n",
      "Average of max per entry across top 8 scores: 0.9166666666666666\n",
      "Average of max per entry across top 9999 scores: 0.9166666666666666\n"
     ]
    },
    {
     "name": "stderr",
     "output_type": "stream",
     "text": [
      "  4%|▍         | 2/50 [00:08<03:16,  4.10s/it]\n"
     ]
    },
    {
     "name": "stdout",
     "output_type": "stream",
     "text": [
      "Bootstrapped 1 full traces after 3 examples in round 0.\n"
     ]
    },
    {
     "name": "stderr",
     "output_type": "stream",
     "text": [
      "Average Metric: 12.0 / 12  (100.0): 100%|██████████| 12/12 [00:15<00:00,  1.26s/it]\n"
     ]
    },
    {
     "name": "stdout",
     "output_type": "stream",
     "text": [
      "Score: 100.0 for set: [4]\n",
      "New best sscore: 100.0 for seed 2\n",
      "Scores so far: [83.33, 58.33, 0.0, 50.0, 50.0, 100.0]\n",
      "Best score: 100.0\n",
      "Average of max per entry across top 1 scores: 1.0\n",
      "Average of max per entry across top 2 scores: 1.0\n",
      "Average of max per entry across top 3 scores: 1.0\n",
      "Average of max per entry across top 5 scores: 1.0\n",
      "Average of max per entry across top 8 scores: 1.0\n",
      "Average of max per entry across top 9999 scores: 1.0\n",
      "6 candidate programs found.\n"
     ]
    }
   ],
   "source": [
    "from dspy.teleprompt import BootstrapFewShotWithRandomSearch\n",
    "\n",
    "# Set up the optimizer: we want to \"bootstrap\" (i.e., self-generate) 8-shot examples of your program's steps.\n",
    "# The optimizer will repeat this 10 times (plus some initial attempts) before selecting its best attempt on the devset.\n",
    "config = dict(\n",
    "    max_bootstrapped_demos=4,\n",
    "    max_labeled_demos=4,\n",
    "    num_candidate_programs=3,\n",
    "    num_threads=4,\n",
    ")\n",
    "\n",
    "teleprompter = BootstrapFewShotWithRandomSearch(metric=validate_answer, **config)\n",
    "optimized_program = teleprompter.compile(\n",
    "    dspy.Predict(Game), trainset=dataset, valset=valset\n",
    ")"
   ]
  },
  {
   "cell_type": "code",
   "execution_count": null,
   "metadata": {},
   "outputs": [
    {
     "name": "stdout",
     "output_type": "stream",
     "text": [
      "0.98\n"
     ]
    }
   ],
   "source": [
    "dataset = []\n",
    "for i in range(50):\n",
    "    titles, scores = generate_selection()\n",
    "    dataset.append(\n",
    "        dspy.Example(titles=str(titles), scores=str(scores)).with_inputs(\n",
    "            \"titles\", \"scores\"\n",
    "        )\n",
    "    )\n",
    "\n",
    "avg = 0\n",
    "for d in dataset:\n",
    "    pred = optimized_program(titles=d.titles, scores=d.scores)\n",
    "    acc = validate_answer(d, pred)\n",
    "    avg += acc\n",
    "print(avg / len(dataset))"
   ]
  },
  {
   "cell_type": "code",
   "execution_count": null,
   "metadata": {},
   "outputs": [],
   "source": [
    "optimized_program.save(\"params.json\")"
   ]
  },
  {
   "cell_type": "code",
   "execution_count": null,
   "metadata": {},
   "outputs": [
    {
     "name": "stdout",
     "output_type": "stream",
     "text": [
      "\n",
      "\n",
      "\n",
      "You are a game recommendation API that receives a list of games\n",
      "a user has played and a set of genres with scored preferences.\n",
      "You will respond in JSON.  The JSON schema should include\n",
      "{\n",
      "  \"recommendations\": {\n",
      "    \"games\": \"list of 5 strings [Super Mario World, Call of Duty, ...]\",\n",
      "    \"rationale\": \"string (reasoning for selecting the recommendedations)\"\n",
      "  }\n",
      "}\n",
      "\n",
      "---\n",
      "\n",
      "Follow the following format.\n",
      "\n",
      "Titles: games that have already been played\n",
      "Scores: users scored genre preferences\n",
      "Output: output in JSON\n",
      "\n",
      "---\n",
      "\n",
      "Titles: ['Max Payne', 'Super Mario Odyssey', 'The Last of Us Part II', 'Super Mario Bros. 3', 'Doom', 'Minecraft', 'The Witcher 2: Assassins of Kings', 'Hollow Knight']\n",
      "Scores: {'Shooter': -2, 'Platform': 0, 'Adventure': -2, 'Puzzle': -1, 'Simulator': 0, 'Role-playing (RPG)': -1, 'Indie': 1}\n",
      "Output: { \"recommendations\": { \"games\": [\"Castlevania\", \"Bloodborne\", \"Dark Souls\"], \"rationale\": \"Based on the user's preferences for Shooter and RPG genres with negative scores, we recommend games that are similar to Doom and The Witcher 2: Assassins of Kings. Castlevania is a classic action-adventure game with strong shooter elements, Bloodborne is an action RPG with challenging combat, and Dark Souls is a notoriously difficult RPG with deep lore.\" } }\n",
      "\n",
      "---\n",
      "\n",
      "Titles: [\"Assassin's Creed III\", 'Portal', 'Super Mario World', 'Grand Theft Auto: Vice City', 'Fallout 3', 'Star Wars: Knights of the Old Republic', \"Uncharted: Drake's Fortune\", 'Fallout: New Vegas', 'Call of Duty: Black Ops', 'The Legend of Zelda: Ocarina of Time', 'Grand Theft Auto: San Andreas', \"Assassin's Creed Brotherhood\", 'Minecraft', 'Chrono Trigger', 'Dragon Age: Origins']\n",
      "Scores: {'Adventure': 1, 'Shooter': 3, 'Platform': 1, 'Puzzle': -1, 'Racing': 0, 'Arcade': -1, 'Role-playing (RPG)': 0, 'Simulator': 1}\n",
      "Output: { \"recommendations\": { \n",
      "    \"games\": [\"Call of Duty\", \"Assassin's Creed III\", \"Uncharted: Drake's Fortune\"], \n",
      "    \"rationale\": \"Based on the user's preferences for Shooter and Adventure genres with positive scores, we recommend games that are similar to Call of Duty and Assassin's Creed. Call of Duty is a popular first-person shooter series, Assassin's Creed III is an action-adventure game with strong narrative elements, and Uncharted: Drake's Fortune is an action-adventure game with a focus on exploration and combat.\" \n",
      "} }\n",
      "\n",
      "\n",
      "\n"
     ]
    },
    {
     "data": {
      "text/plain": [
       "'\\n\\n\\nYou are a game recommendation API that receives a list of games\\na user has played and a set of genres with scored preferences.\\nYou will respond in JSON.  The JSON schema should include\\n{\\n  \"recommendations\": {\\n    \"games\": \"list of 5 strings [Super Mario World, Call of Duty, ...]\",\\n    \"rationale\": \"string (reasoning for selecting the recommendedations)\"\\n  }\\n}\\n\\n---\\n\\nFollow the following format.\\n\\nTitles: games that have already been played\\nScores: users scored genre preferences\\nOutput: output in JSON\\n\\n---\\n\\nTitles: [\\'Max Payne\\', \\'Super Mario Odyssey\\', \\'The Last of Us Part II\\', \\'Super Mario Bros. 3\\', \\'Doom\\', \\'Minecraft\\', \\'The Witcher 2: Assassins of Kings\\', \\'Hollow Knight\\']\\nScores: {\\'Shooter\\': -2, \\'Platform\\': 0, \\'Adventure\\': -2, \\'Puzzle\\': -1, \\'Simulator\\': 0, \\'Role-playing (RPG)\\': -1, \\'Indie\\': 1}\\nOutput: { \"recommendations\": { \"games\": [\"Castlevania\", \"Bloodborne\", \"Dark Souls\"], \"rationale\": \"Based on the user\\'s preferences for Shooter and RPG genres with negative scores, we recommend games that are similar to Doom and The Witcher 2: Assassins of Kings. Castlevania is a classic action-adventure game with strong shooter elements, Bloodborne is an action RPG with challenging combat, and Dark Souls is a notoriously difficult RPG with deep lore.\" } }\\n\\n---\\n\\nTitles: [\"Assassin\\'s Creed III\", \\'Portal\\', \\'Super Mario World\\', \\'Grand Theft Auto: Vice City\\', \\'Fallout 3\\', \\'Star Wars: Knights of the Old Republic\\', \"Uncharted: Drake\\'s Fortune\", \\'Fallout: New Vegas\\', \\'Call of Duty: Black Ops\\', \\'The Legend of Zelda: Ocarina of Time\\', \\'Grand Theft Auto: San Andreas\\', \"Assassin\\'s Creed Brotherhood\", \\'Minecraft\\', \\'Chrono Trigger\\', \\'Dragon Age: Origins\\']\\nScores: {\\'Adventure\\': 1, \\'Shooter\\': 3, \\'Platform\\': 1, \\'Puzzle\\': -1, \\'Racing\\': 0, \\'Arcade\\': -1, \\'Role-playing (RPG)\\': 0, \\'Simulator\\': 1}\\nOutput:\\x1b[32m { \"recommendations\": { \\n    \"games\": [\"Call of Duty\", \"Assassin\\'s Creed III\", \"Uncharted: Drake\\'s Fortune\"], \\n    \"rationale\": \"Based on the user\\'s preferences for Shooter and Adventure genres with positive scores, we recommend games that are similar to Call of Duty and Assassin\\'s Creed. Call of Duty is a popular first-person shooter series, Assassin\\'s Creed III is an action-adventure game with strong narrative elements, and Uncharted: Drake\\'s Fortune is an action-adventure game with a focus on exploration and combat.\" \\n} }\\x1b[0m\\n\\n\\n'"
      ]
     },
     "execution_count": 20,
     "metadata": {},
     "output_type": "execute_result"
    }
   ],
   "source": [
    "llama3.inspect_history(n=1)"
   ]
  },
  {
   "cell_type": "code",
   "execution_count": null,
   "metadata": {},
   "outputs": [],
   "source": []
  }
 ],
 "metadata": {
  "kernelspec": {
   "display_name": ".venv",
   "language": "python",
   "name": "python3"
  },
  "language_info": {
   "codemirror_mode": {
    "name": "ipython",
    "version": 3
   },
   "file_extension": ".py",
   "mimetype": "text/x-python",
   "name": "python",
   "nbconvert_exporter": "python",
   "pygments_lexer": "ipython3",
   "version": "3.10.0"
  }
 },
 "nbformat": 4,
 "nbformat_minor": 2
}
